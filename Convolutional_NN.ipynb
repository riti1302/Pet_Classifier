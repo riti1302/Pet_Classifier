{
 "cells": [
  {
   "cell_type": "code",
   "execution_count": 2,
   "metadata": {},
   "outputs": [
    {
     "name": "stdout",
     "output_type": "stream",
     "text": [
      "Train on 4789 samples, validate on 533 samples\n",
      "Epoch 1/10\n",
      "4789/4789 [==============================] - 85s 18ms/step - loss: 0.6698 - acc: 0.5972 - val_loss: 0.6631 - val_acc: 0.6360\n",
      "Epoch 2/10\n",
      "4789/4789 [==============================] - 93s 19ms/step - loss: 0.6251 - acc: 0.6471 - val_loss: 0.6132 - val_acc: 0.6754\n",
      "Epoch 3/10\n",
      "4789/4789 [==============================] - 91s 19ms/step - loss: 0.5910 - acc: 0.6870 - val_loss: 0.5948 - val_acc: 0.6623\n",
      "Epoch 4/10\n",
      "4789/4789 [==============================] - 85s 18ms/step - loss: 0.5525 - acc: 0.7229 - val_loss: 0.5667 - val_acc: 0.7186\n",
      "Epoch 5/10\n",
      "4789/4789 [==============================] - 83s 17ms/step - loss: 0.5194 - acc: 0.7452 - val_loss: 0.5471 - val_acc: 0.7355\n",
      "Epoch 6/10\n",
      "4789/4789 [==============================] - 75s 16ms/step - loss: 0.4870 - acc: 0.7645 - val_loss: 0.5537 - val_acc: 0.7167\n",
      "Epoch 7/10\n",
      "4789/4789 [==============================] - 74s 15ms/step - loss: 0.4484 - acc: 0.7906 - val_loss: 0.5641 - val_acc: 0.7261\n",
      "Epoch 8/10\n",
      "4789/4789 [==============================] - 75s 16ms/step - loss: 0.4072 - acc: 0.8127 - val_loss: 0.5757 - val_acc: 0.7054\n",
      "Epoch 9/10\n",
      "4789/4789 [==============================] - 83s 17ms/step - loss: 0.3621 - acc: 0.8338 - val_loss: 0.6276 - val_acc: 0.7092\n",
      "Epoch 10/10\n",
      "4789/4789 [==============================] - 88s 18ms/step - loss: 0.3379 - acc: 0.8526 - val_loss: 0.6747 - val_acc: 0.7017\n"
     ]
    },
    {
     "data": {
      "text/plain": [
       "<tensorflow.python.keras.callbacks.History at 0x7f8ff99e22b0>"
      ]
     },
     "execution_count": 2,
     "metadata": {},
     "output_type": "execute_result"
    }
   ],
   "source": [
    "import tensorflow as tf\n",
    "from tensorflow.keras.models import Sequential\n",
    "from tensorflow.keras.layers import Dense, Dropout, Activation, Flatten, Conv2D, MaxPooling2D\n",
    "import pickle\n",
    "\n",
    "X  = pickle.load(open(\"X.pickle\", \"rb\"))\n",
    "y  = pickle.load(open(\"y.pickle\", \"rb\"))\n",
    "\n",
    "X = X/225.0\n",
    "\n",
    "model = Sequential()\n",
    "\n",
    "model.add(Conv2D(64, (3,3), input_shape = X.shape[1:]))\n",
    "model.add(Activation(\"relu\"))\n",
    "model.add(MaxPooling2D(pool_size = (2,2)))\n",
    "\n",
    "model.add(Conv2D(64, (3,3)))\n",
    "model.add(Activation(\"relu\"))\n",
    "model.add(MaxPooling2D(pool_size = (2,2)))\n",
    "\n",
    "model.add(Flatten())\n",
    "model.add(Dense(64))\n",
    "\n",
    "model.add(Dense(1))\n",
    "model.add(Activation(\"sigmoid\"))\n",
    "\n",
    "model.compile(loss = \"binary_crossentropy\", optimizer = \"adam\", metrics = ['accuracy'])\n",
    "\n",
    "model.fit(X, y, batch_size = 32, epochs = 10, validation_split = 0.1)"
   ]
  },
  {
   "cell_type": "code",
   "execution_count": 5,
   "metadata": {},
   "outputs": [],
   "source": [
    "model.save('64x3-CNN.model')"
   ]
  },
  {
   "cell_type": "code",
   "execution_count": null,
   "metadata": {},
   "outputs": [],
   "source": []
  }
 ],
 "metadata": {
  "kernelspec": {
   "display_name": "Python 3",
   "language": "python",
   "name": "python3"
  },
  "language_info": {
   "codemirror_mode": {
    "name": "ipython",
    "version": 3
   },
   "file_extension": ".py",
   "mimetype": "text/x-python",
   "name": "python",
   "nbconvert_exporter": "python",
   "pygments_lexer": "ipython3",
   "version": "3.6.7"
  }
 },
 "nbformat": 4,
 "nbformat_minor": 2
}
