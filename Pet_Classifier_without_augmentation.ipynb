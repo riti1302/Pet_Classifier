{
  "nbformat": 4,
  "nbformat_minor": 0,
  "metadata": {
    "colab": {
      "name": "Pet-Classifier-without-augmentation.ipynb",
      "version": "0.3.2",
      "provenance": [],
      "collapsed_sections": [],
      "include_colab_link": true
    },
    "kernelspec": {
      "name": "python3",
      "display_name": "Python 3"
    },
    "accelerator": "GPU"
  },
  "cells": [
    {
      "cell_type": "markdown",
      "metadata": {
        "id": "view-in-github",
        "colab_type": "text"
      },
      "source": [
        "<a href=\"https://colab.research.google.com/github/riti1302/Pet_Classifier/blob/master/Pet_Classifier_without_augmentation.ipynb\" target=\"_parent\"><img src=\"https://colab.research.google.com/assets/colab-badge.svg\" alt=\"Open In Colab\"/></a>"
      ]
    },
    {
      "metadata": {
        "id": "IcgbmcAK2x_o",
        "colab_type": "code",
        "outputId": "4e009c96-82e9-417b-df63-46d6ebfb2baf",
        "colab": {
          "base_uri": "https://localhost:8080/",
          "height": 125
        }
      },
      "cell_type": "code",
      "source": [
        "from google.colab import drive\n",
        "drive.mount(\"/content/drive\")"
      ],
      "execution_count": 0,
      "outputs": [
        {
          "output_type": "stream",
          "text": [
            "Go to this URL in a browser: https://accounts.google.com/o/oauth2/auth?client_id=947318989803-6bn6qk8qdgf4n4g3pfee6491hc0brc4i.apps.googleusercontent.com&redirect_uri=urn%3Aietf%3Awg%3Aoauth%3A2.0%3Aoob&scope=email%20https%3A%2F%2Fwww.googleapis.com%2Fauth%2Fdocs.test%20https%3A%2F%2Fwww.googleapis.com%2Fauth%2Fdrive%20https%3A%2F%2Fwww.googleapis.com%2Fauth%2Fdrive.photos.readonly%20https%3A%2F%2Fwww.googleapis.com%2Fauth%2Fpeopleapi.readonly&response_type=code\n",
            "\n",
            "Enter your authorization code:\n",
            "··········\n",
            "Mounted at /content/drive\n"
          ],
          "name": "stdout"
        }
      ]
    },
    {
      "metadata": {
        "id": "NYo4H7GFksKO",
        "colab_type": "code",
        "colab": {}
      },
      "cell_type": "code",
      "source": [
        "!unzip \"/content/drive/My Drive/New-Folder.zip\" -d \"/content/drive/My Drive/\""
      ],
      "execution_count": 0,
      "outputs": []
    },
    {
      "metadata": {
        "id": "edlNk57b-yyL",
        "colab_type": "code",
        "colab": {}
      },
      "cell_type": "code",
      "source": [
        "import os\n",
        "\n",
        "train_set = \"/content/drive/My Drive/New-Folder/Train-set\"\n",
        "validation_set = \"/content/drive/My Drive/New-Folder/Validation-set\"\n",
        "test_set = \"/content/drive/My Drive/New-Folder/Test-set\"\n",
        "img_size = 64\n",
        "batch_size = 32\n"
      ],
      "execution_count": 0,
      "outputs": []
    },
    {
      "metadata": {
        "id": "P85HFes-p1iJ",
        "colab_type": "code",
        "outputId": "d7973f75-c0cb-4baa-b19d-a3d3f18e0b86",
        "colab": {
          "base_uri": "https://localhost:8080/",
          "height": 52
        }
      },
      "cell_type": "code",
      "source": [
        "from keras.preprocessing.image import ImageDataGenerator\n",
        "\n",
        "train_gen = ImageDataGenerator(rescale = 1./255)\n",
        "validation_gen = ImageDataGenerator(rescale = 1./255)\n",
        "\n",
        "train_generator = train_gen.flow_from_directory(train_set, target_size = (img_size,img_size), batch_size = batch_size, class_mode = 'binary')\n",
        "validation_generator = validation_gen.flow_from_directory(validation_set, target_size = (img_size,img_size), batch_size = batch_size, class_mode = 'binary')"
      ],
      "execution_count": 0,
      "outputs": [
        {
          "output_type": "stream",
          "text": [
            "Found 5961 images belonging to 2 classes.\n",
            "Found 2985 images belonging to 2 classes.\n"
          ],
          "name": "stdout"
        }
      ]
    },
    {
      "metadata": {
        "id": "DkMUX9SNruFM",
        "colab_type": "code",
        "outputId": "a862ac51-a412-4bdc-ba24-b3416cdd3d04",
        "colab": {
          "base_uri": "https://localhost:8080/",
          "height": 52
        }
      },
      "cell_type": "code",
      "source": [
        "for data_batch, label_batch in train_generator:\n",
        "  print(\"Data batch: \", data_batch.shape)\n",
        "  print(\"Label batch: \", label_batch.shape)\n",
        "  break"
      ],
      "execution_count": 0,
      "outputs": [
        {
          "output_type": "stream",
          "text": [
            "Data batch:  (32, 64, 64, 3)\n",
            "Label batch:  (32,)\n"
          ],
          "name": "stdout"
        }
      ]
    },
    {
      "metadata": {
        "id": "sFCqB5z4-WfH",
        "colab_type": "code",
        "outputId": "6dcceb50-fbc3-495c-92f3-6c8dde97b431",
        "colab": {
          "base_uri": "https://localhost:8080/",
          "height": 801
        }
      },
      "cell_type": "code",
      "source": [
        "from tensorflow.keras.layers import Dense, Dropout, Flatten, Activation, MaxPooling2D, Conv2D \n",
        "from tensorflow.keras.models import Sequential\n",
        "\n",
        "model = Sequential()\n",
        "\n",
        "model.add(Conv2D(32, (3,3),input_shape = (img_size,img_size,3)))\n",
        "model.add(Activation('relu'))\n",
        "model.add(MaxPooling2D(pool_size = (2,2)))\n",
        "  \n",
        "model.add(Conv2D(32, (3,3)))\n",
        "model.add(Activation('relu'))\n",
        "model.add(MaxPooling2D(pool_size = (2,2)))\n",
        "  \n",
        "model.add(Conv2D(64, (3,3)))\n",
        "model.add(Activation('relu'))\n",
        "model.add(MaxPooling2D(pool_size = (2,2)))\n",
        "\n",
        "  \n",
        "model.add(Flatten())\n",
        "model.add(Dense(128))\n",
        "model.add(Activation('relu'))\n",
        "model.add(Dropout(0.5))\n",
        "model.add(Dense(1))\n",
        "model.add(Activation('sigmoid'))\n",
        "\n",
        "model.summary()  "
      ],
      "execution_count": 0,
      "outputs": [
        {
          "output_type": "stream",
          "text": [
            "WARNING:tensorflow:From /usr/local/lib/python3.6/dist-packages/tensorflow/python/ops/resource_variable_ops.py:435: colocate_with (from tensorflow.python.framework.ops) is deprecated and will be removed in a future version.\n",
            "Instructions for updating:\n",
            "Colocations handled automatically by placer.\n",
            "WARNING:tensorflow:From /usr/local/lib/python3.6/dist-packages/tensorflow/python/keras/layers/core.py:143: calling dropout (from tensorflow.python.ops.nn_ops) with keep_prob is deprecated and will be removed in a future version.\n",
            "Instructions for updating:\n",
            "Please use `rate` instead of `keep_prob`. Rate should be set to `rate = 1 - keep_prob`.\n",
            "_________________________________________________________________\n",
            "Layer (type)                 Output Shape              Param #   \n",
            "=================================================================\n",
            "conv2d (Conv2D)              (None, 62, 62, 32)        896       \n",
            "_________________________________________________________________\n",
            "activation (Activation)      (None, 62, 62, 32)        0         \n",
            "_________________________________________________________________\n",
            "max_pooling2d (MaxPooling2D) (None, 31, 31, 32)        0         \n",
            "_________________________________________________________________\n",
            "conv2d_1 (Conv2D)            (None, 29, 29, 32)        9248      \n",
            "_________________________________________________________________\n",
            "activation_1 (Activation)    (None, 29, 29, 32)        0         \n",
            "_________________________________________________________________\n",
            "max_pooling2d_1 (MaxPooling2 (None, 14, 14, 32)        0         \n",
            "_________________________________________________________________\n",
            "conv2d_2 (Conv2D)            (None, 12, 12, 64)        18496     \n",
            "_________________________________________________________________\n",
            "activation_2 (Activation)    (None, 12, 12, 64)        0         \n",
            "_________________________________________________________________\n",
            "max_pooling2d_2 (MaxPooling2 (None, 6, 6, 64)          0         \n",
            "_________________________________________________________________\n",
            "flatten (Flatten)            (None, 2304)              0         \n",
            "_________________________________________________________________\n",
            "dense (Dense)                (None, 128)               295040    \n",
            "_________________________________________________________________\n",
            "activation_3 (Activation)    (None, 128)               0         \n",
            "_________________________________________________________________\n",
            "dropout (Dropout)            (None, 128)               0         \n",
            "_________________________________________________________________\n",
            "dense_1 (Dense)              (None, 1)                 129       \n",
            "_________________________________________________________________\n",
            "activation_4 (Activation)    (None, 1)                 0         \n",
            "=================================================================\n",
            "Total params: 323,809\n",
            "Trainable params: 323,809\n",
            "Non-trainable params: 0\n",
            "_________________________________________________________________\n"
          ],
          "name": "stdout"
        }
      ]
    },
    {
      "metadata": {
        "id": "Z18T2Mcqt17I",
        "colab_type": "code",
        "outputId": "48eda606-527d-447d-fe91-acf8ed84e19f",
        "colab": {
          "base_uri": "https://localhost:8080/",
          "height": 2970
        }
      },
      "cell_type": "code",
      "source": [
        "model.compile(loss = 'binary_crossentropy', optimizer = 'rmsprop', metrics = ['accuracy'])\n",
        "model.fit_generator(train_generator, epochs = 30, steps_per_epoch = 100, validation_data = validation_generator)\n"
      ],
      "execution_count": 0,
      "outputs": [
        {
          "output_type": "stream",
          "text": [
            "Epoch 1/30\n",
            " 69/187 [==========>...................] - ETA: 20s - loss: 0.0790 - acc: 0.9823"
          ],
          "name": "stdout"
        },
        {
          "output_type": "stream",
          "text": [
            "/usr/local/lib/python3.6/dist-packages/PIL/TiffImagePlugin.py:692: UserWarning: Possibly corrupt EXIF data.  Expecting to read 80000 bytes but only got 0. Skipping tag 64640\n",
            "  \"Skipping tag %s\" % (size, len(data), tag))\n",
            "/usr/local/lib/python3.6/dist-packages/PIL/TiffImagePlugin.py:692: UserWarning: Possibly corrupt EXIF data.  Expecting to read 6553600 bytes but only got 0. Skipping tag 49\n",
            "  \"Skipping tag %s\" % (size, len(data), tag))\n",
            "/usr/local/lib/python3.6/dist-packages/PIL/TiffImagePlugin.py:692: UserWarning: Possibly corrupt EXIF data.  Expecting to read 1050744 bytes but only got 4951. Skipping tag 51\n",
            "  \"Skipping tag %s\" % (size, len(data), tag))\n",
            "/usr/local/lib/python3.6/dist-packages/PIL/TiffImagePlugin.py:692: UserWarning: Possibly corrupt EXIF data.  Expecting to read 293339136 bytes but only got 0. Skipping tag 5\n",
            "  \"Skipping tag %s\" % (size, len(data), tag))\n",
            "/usr/local/lib/python3.6/dist-packages/PIL/TiffImagePlugin.py:692: UserWarning: Possibly corrupt EXIF data.  Expecting to read 293863424 bytes but only got 0. Skipping tag 5\n",
            "  \"Skipping tag %s\" % (size, len(data), tag))\n",
            "/usr/local/lib/python3.6/dist-packages/PIL/TiffImagePlugin.py:692: UserWarning: Possibly corrupt EXIF data.  Expecting to read 3368026112 bytes but only got 0. Skipping tag 7\n",
            "  \"Skipping tag %s\" % (size, len(data), tag))\n",
            "/usr/local/lib/python3.6/dist-packages/PIL/TiffImagePlugin.py:692: UserWarning: Possibly corrupt EXIF data.  Expecting to read 134479872 bytes but only got 0. Skipping tag 7\n",
            "  \"Skipping tag %s\" % (size, len(data), tag))\n",
            "/usr/local/lib/python3.6/dist-packages/PIL/TiffImagePlugin.py:692: UserWarning: Possibly corrupt EXIF data.  Expecting to read 295698432 bytes but only got 0. Skipping tag 10\n",
            "  \"Skipping tag %s\" % (size, len(data), tag))\n",
            "/usr/local/lib/python3.6/dist-packages/PIL/TiffImagePlugin.py:692: UserWarning: Possibly corrupt EXIF data.  Expecting to read 296222720 bytes but only got 0. Skipping tag 5\n",
            "  \"Skipping tag %s\" % (size, len(data), tag))\n",
            "/usr/local/lib/python3.6/dist-packages/PIL/TiffImagePlugin.py:692: UserWarning: Possibly corrupt EXIF data.  Expecting to read 3300917248 bytes but only got 0. Skipping tag 7\n",
            "  \"Skipping tag %s\" % (size, len(data), tag))\n",
            "/usr/local/lib/python3.6/dist-packages/PIL/TiffImagePlugin.py:692: UserWarning: Possibly corrupt EXIF data.  Expecting to read 65536 bytes but only got 0. Skipping tag 3\n",
            "  \"Skipping tag %s\" % (size, len(data), tag))\n",
            "/usr/local/lib/python3.6/dist-packages/PIL/TiffImagePlugin.py:692: UserWarning: Possibly corrupt EXIF data.  Expecting to read 14745600 bytes but only got 0. Skipping tag 4\n",
            "  \"Skipping tag %s\" % (size, len(data), tag))\n",
            "/usr/local/lib/python3.6/dist-packages/PIL/TiffImagePlugin.py:692: UserWarning: Possibly corrupt EXIF data.  Expecting to read 25624576 bytes but only got 0. Skipping tag 4\n",
            "  \"Skipping tag %s\" % (size, len(data), tag))\n",
            "/usr/local/lib/python3.6/dist-packages/PIL/TiffImagePlugin.py:692: UserWarning: Possibly corrupt EXIF data.  Expecting to read 317718528 bytes but only got 4956. Skipping tag 4\n",
            "  \"Skipping tag %s\" % (size, len(data), tag))\n",
            "/usr/local/lib/python3.6/dist-packages/PIL/TiffImagePlugin.py:692: UserWarning: Possibly corrupt EXIF data.  Expecting to read 131073 bytes but only got 4952. Skipping tag 0\n",
            "  \"Skipping tag %s\" % (size, len(data), tag))\n",
            "/usr/local/lib/python3.6/dist-packages/PIL/TiffImagePlugin.py:692: UserWarning: Possibly corrupt EXIF data.  Expecting to read 393216 bytes but only got 0. Skipping tag 3\n",
            "  \"Skipping tag %s\" % (size, len(data), tag))\n",
            "/usr/local/lib/python3.6/dist-packages/PIL/TiffImagePlugin.py:692: UserWarning: Possibly corrupt EXIF data.  Expecting to read 287178752 bytes but only got 0. Skipping tag 5\n",
            "  \"Skipping tag %s\" % (size, len(data), tag))\n",
            "/usr/local/lib/python3.6/dist-packages/PIL/TiffImagePlugin.py:692: UserWarning: Possibly corrupt EXIF data.  Expecting to read 287703040 bytes but only got 0. Skipping tag 5\n",
            "  \"Skipping tag %s\" % (size, len(data), tag))\n",
            "/usr/local/lib/python3.6/dist-packages/PIL/TiffImagePlugin.py:692: UserWarning: Possibly corrupt EXIF data.  Expecting to read 131072 bytes but only got 0. Skipping tag 3\n",
            "  \"Skipping tag %s\" % (size, len(data), tag))\n",
            "/usr/local/lib/python3.6/dist-packages/PIL/TiffImagePlugin.py:692: UserWarning: Possibly corrupt EXIF data.  Expecting to read 524288 bytes but only got 0. Skipping tag 4\n",
            "  \"Skipping tag %s\" % (size, len(data), tag))\n",
            "/usr/local/lib/python3.6/dist-packages/PIL/TiffImagePlugin.py:692: UserWarning: Possibly corrupt EXIF data.  Expecting to read 286654464 bytes but only got 4956. Skipping tag 4\n",
            "  \"Skipping tag %s\" % (size, len(data), tag))\n",
            "/usr/local/lib/python3.6/dist-packages/PIL/TiffImagePlugin.py:709: UserWarning: Corrupt EXIF data.  Expecting to read 12 bytes but only got 2. \n",
            "  warnings.warn(str(msg))\n"
          ],
          "name": "stderr"
        },
        {
          "output_type": "stream",
          "text": [
            "172/187 [==========================>...] - ETA: 2s - loss: 0.0653 - acc: 0.9816"
          ],
          "name": "stdout"
        },
        {
          "output_type": "stream",
          "text": [
            "/usr/local/lib/python3.6/dist-packages/PIL/TiffImagePlugin.py:692: UserWarning: Possibly corrupt EXIF data.  Expecting to read 32 bytes but only got 0. Skipping tag 270\n",
            "  \"Skipping tag %s\" % (size, len(data), tag))\n",
            "/usr/local/lib/python3.6/dist-packages/PIL/TiffImagePlugin.py:692: UserWarning: Possibly corrupt EXIF data.  Expecting to read 5 bytes but only got 0. Skipping tag 271\n",
            "  \"Skipping tag %s\" % (size, len(data), tag))\n",
            "/usr/local/lib/python3.6/dist-packages/PIL/TiffImagePlugin.py:692: UserWarning: Possibly corrupt EXIF data.  Expecting to read 8 bytes but only got 0. Skipping tag 272\n",
            "  \"Skipping tag %s\" % (size, len(data), tag))\n",
            "/usr/local/lib/python3.6/dist-packages/PIL/TiffImagePlugin.py:692: UserWarning: Possibly corrupt EXIF data.  Expecting to read 8 bytes but only got 0. Skipping tag 282\n",
            "  \"Skipping tag %s\" % (size, len(data), tag))\n",
            "/usr/local/lib/python3.6/dist-packages/PIL/TiffImagePlugin.py:692: UserWarning: Possibly corrupt EXIF data.  Expecting to read 8 bytes but only got 0. Skipping tag 283\n",
            "  \"Skipping tag %s\" % (size, len(data), tag))\n",
            "/usr/local/lib/python3.6/dist-packages/PIL/TiffImagePlugin.py:692: UserWarning: Possibly corrupt EXIF data.  Expecting to read 20 bytes but only got 0. Skipping tag 306\n",
            "  \"Skipping tag %s\" % (size, len(data), tag))\n",
            "/usr/local/lib/python3.6/dist-packages/PIL/TiffImagePlugin.py:692: UserWarning: Possibly corrupt EXIF data.  Expecting to read 48 bytes but only got 0. Skipping tag 532\n",
            "  \"Skipping tag %s\" % (size, len(data), tag))\n",
            "/usr/local/lib/python3.6/dist-packages/PIL/TiffImagePlugin.py:709: UserWarning: Corrupt EXIF data.  Expecting to read 2 bytes but only got 0. \n",
            "  warnings.warn(str(msg))\n"
          ],
          "name": "stderr"
        },
        {
          "output_type": "stream",
          "text": [
            "83/94 [=========================>....] - ETA: 1s - loss: 1.2631 - acc: 0.7733"
          ],
          "name": "stdout"
        },
        {
          "output_type": "stream",
          "text": [
            "/usr/local/lib/python3.6/dist-packages/PIL/TiffImagePlugin.py:692: UserWarning: Possibly corrupt EXIF data.  Expecting to read 404094976 bytes but only got 0. Skipping tag 5\n",
            "  \"Skipping tag %s\" % (size, len(data), tag))\n",
            "/usr/local/lib/python3.6/dist-packages/PIL/TiffImagePlugin.py:692: UserWarning: Possibly corrupt EXIF data.  Expecting to read 404619264 bytes but only got 0. Skipping tag 5\n",
            "  \"Skipping tag %s\" % (size, len(data), tag))\n",
            "/usr/local/lib/python3.6/dist-packages/PIL/TiffImagePlugin.py:692: UserWarning: Possibly corrupt EXIF data.  Expecting to read 425459712 bytes but only got 0. Skipping tag 4\n",
            "  \"Skipping tag %s\" % (size, len(data), tag))\n",
            "/usr/local/lib/python3.6/dist-packages/PIL/TiffImagePlugin.py:692: UserWarning: Possibly corrupt EXIF data.  Expecting to read 1385474 bytes but only got 6833. Skipping tag 513\n",
            "  \"Skipping tag %s\" % (size, len(data), tag))\n",
            "/usr/local/lib/python3.6/dist-packages/PIL/TiffImagePlugin.py:692: UserWarning: Possibly corrupt EXIF data.  Expecting to read 3846701056 bytes but only got 0. Skipping tag 2\n",
            "  \"Skipping tag %s\" % (size, len(data), tag))\n",
            "/usr/local/lib/python3.6/dist-packages/PIL/TiffImagePlugin.py:692: UserWarning: Possibly corrupt EXIF data.  Expecting to read 196867 bytes but only got 6833. Skipping tag 0\n",
            "  \"Skipping tag %s\" % (size, len(data), tag))\n",
            "/usr/local/lib/python3.6/dist-packages/PIL/TiffImagePlugin.py:709: UserWarning: Corrupt EXIF data.  Expecting to read 12 bytes but only got 8. \n",
            "  warnings.warn(str(msg))\n"
          ],
          "name": "stderr"
        },
        {
          "output_type": "stream",
          "text": [
            "94/94 [==============================] - 16s 175ms/step - loss: 1.2734 - acc: 0.7742\n",
            "187/187 [==============================] - 49s 264ms/step - loss: 0.0677 - acc: 0.9809 - val_loss: 1.2734 - val_acc: 0.7742\n",
            "Epoch 2/30\n",
            "94/94 [==============================] - 16s 174ms/step - loss: 1.5185 - acc: 0.7561\n",
            "187/187 [==============================] - 47s 254ms/step - loss: 0.0631 - acc: 0.9800 - val_loss: 1.5185 - val_acc: 0.7561\n",
            "Epoch 3/30\n",
            "94/94 [==============================] - 16s 175ms/step - loss: 1.4786 - acc: 0.7765\n",
            "187/187 [==============================] - 48s 257ms/step - loss: 0.0529 - acc: 0.9844 - val_loss: 1.4786 - val_acc: 0.7765\n",
            "Epoch 4/30\n",
            "94/94 [==============================] - 16s 174ms/step - loss: 1.6158 - acc: 0.7802\n",
            "187/187 [==============================] - 47s 254ms/step - loss: 0.0478 - acc: 0.9832 - val_loss: 1.6158 - val_acc: 0.7802\n",
            "Epoch 5/30\n",
            "94/94 [==============================] - 16s 175ms/step - loss: 1.7607 - acc: 0.7782\n",
            "187/187 [==============================] - 48s 255ms/step - loss: 0.0615 - acc: 0.9812 - val_loss: 1.7607 - val_acc: 0.7782\n",
            "Epoch 6/30\n",
            "94/94 [==============================] - 17s 176ms/step - loss: 1.2185 - acc: 0.7822\n",
            "187/187 [==============================] - 48s 255ms/step - loss: 0.0516 - acc: 0.9851 - val_loss: 1.2185 - val_acc: 0.7822\n",
            "Epoch 7/30\n",
            "94/94 [==============================] - 16s 174ms/step - loss: 1.6193 - acc: 0.7886\n",
            "187/187 [==============================] - 48s 255ms/step - loss: 0.0542 - acc: 0.9836 - val_loss: 1.6193 - val_acc: 0.7886\n",
            "Epoch 8/30\n",
            "94/94 [==============================] - 16s 175ms/step - loss: 1.7966 - acc: 0.7906\n",
            "187/187 [==============================] - 47s 253ms/step - loss: 0.0490 - acc: 0.9867 - val_loss: 1.7966 - val_acc: 0.7906\n",
            "Epoch 9/30\n",
            "94/94 [==============================] - 17s 178ms/step - loss: 1.8050 - acc: 0.7846\n",
            "187/187 [==============================] - 48s 257ms/step - loss: 0.0515 - acc: 0.9849 - val_loss: 1.8050 - val_acc: 0.7846\n",
            "Epoch 10/30\n",
            "94/94 [==============================] - 17s 177ms/step - loss: 1.6785 - acc: 0.7765\n",
            "187/187 [==============================] - 48s 258ms/step - loss: 0.0494 - acc: 0.9856 - val_loss: 1.6785 - val_acc: 0.7765\n",
            "Epoch 11/30\n",
            "94/94 [==============================] - 17s 178ms/step - loss: 1.6801 - acc: 0.7832\n",
            "187/187 [==============================] - 49s 260ms/step - loss: 0.0545 - acc: 0.9841 - val_loss: 1.6801 - val_acc: 0.7832\n",
            "Epoch 12/30\n",
            "94/94 [==============================] - 16s 174ms/step - loss: 1.8073 - acc: 0.7786\n",
            "187/187 [==============================] - 47s 253ms/step - loss: 0.0453 - acc: 0.9864 - val_loss: 1.8073 - val_acc: 0.7786\n",
            "Epoch 13/30\n",
            "94/94 [==============================] - 16s 175ms/step - loss: 1.5105 - acc: 0.7769\n",
            "187/187 [==============================] - 48s 254ms/step - loss: 0.0636 - acc: 0.9821 - val_loss: 1.5105 - val_acc: 0.7769\n",
            "Epoch 14/30\n",
            "94/94 [==============================] - 16s 176ms/step - loss: 1.7337 - acc: 0.7511\n",
            "187/187 [==============================] - 48s 254ms/step - loss: 0.0554 - acc: 0.9857 - val_loss: 1.7337 - val_acc: 0.7511\n",
            "Epoch 15/30\n",
            "94/94 [==============================] - 17s 177ms/step - loss: 1.9097 - acc: 0.7742\n",
            "187/187 [==============================] - 48s 257ms/step - loss: 0.0572 - acc: 0.9829 - val_loss: 1.9097 - val_acc: 0.7742\n",
            "Epoch 16/30\n",
            "94/94 [==============================] - 16s 174ms/step - loss: 1.5783 - acc: 0.7772\n",
            "187/187 [==============================] - 48s 257ms/step - loss: 0.0591 - acc: 0.9849 - val_loss: 1.5783 - val_acc: 0.7772\n",
            "Epoch 17/30\n",
            "94/94 [==============================] - 16s 174ms/step - loss: 1.6505 - acc: 0.7642\n",
            "187/187 [==============================] - 47s 253ms/step - loss: 0.0649 - acc: 0.9822 - val_loss: 1.6505 - val_acc: 0.7642\n",
            "Epoch 18/30\n",
            "94/94 [==============================] - 16s 175ms/step - loss: 1.3180 - acc: 0.7782\n",
            "187/187 [==============================] - 48s 256ms/step - loss: 0.0612 - acc: 0.9812 - val_loss: 1.3180 - val_acc: 0.7782\n",
            "Epoch 19/30\n",
            "94/94 [==============================] - 16s 175ms/step - loss: 1.6134 - acc: 0.7705\n",
            "187/187 [==============================] - 47s 254ms/step - loss: 0.0708 - acc: 0.9832 - val_loss: 1.6134 - val_acc: 0.7705\n",
            "Epoch 20/30\n",
            "94/94 [==============================] - 16s 174ms/step - loss: 1.2307 - acc: 0.7712\n",
            "187/187 [==============================] - 48s 254ms/step - loss: 0.0650 - acc: 0.9826 - val_loss: 1.2307 - val_acc: 0.7712\n",
            "Epoch 21/30\n",
            "94/94 [==============================] - 16s 175ms/step - loss: 1.6093 - acc: 0.7782\n",
            "187/187 [==============================] - 48s 254ms/step - loss: 0.0660 - acc: 0.9826 - val_loss: 1.6093 - val_acc: 0.7782\n",
            "Epoch 22/30\n",
            "94/94 [==============================] - 17s 179ms/step - loss: 1.8970 - acc: 0.7876\n",
            "187/187 [==============================] - 48s 257ms/step - loss: 0.0692 - acc: 0.9819 - val_loss: 1.8970 - val_acc: 0.7876\n",
            "Epoch 23/30\n",
            "94/94 [==============================] - 16s 175ms/step - loss: 1.7744 - acc: 0.7719\n",
            "187/187 [==============================] - 48s 255ms/step - loss: 0.0659 - acc: 0.9854 - val_loss: 1.7744 - val_acc: 0.7719\n",
            "Epoch 24/30\n",
            "94/94 [==============================] - 16s 175ms/step - loss: 1.3349 - acc: 0.7782\n",
            "187/187 [==============================] - 48s 256ms/step - loss: 0.0742 - acc: 0.9821 - val_loss: 1.3349 - val_acc: 0.7782\n",
            "Epoch 25/30\n",
            "94/94 [==============================] - 16s 175ms/step - loss: 1.2046 - acc: 0.7735\n",
            "187/187 [==============================] - 47s 254ms/step - loss: 0.0693 - acc: 0.9821 - val_loss: 1.2046 - val_acc: 0.7735\n",
            "Epoch 26/30\n",
            "94/94 [==============================] - 16s 175ms/step - loss: 1.8591 - acc: 0.7816\n",
            "187/187 [==============================] - 47s 254ms/step - loss: 0.0714 - acc: 0.9837 - val_loss: 1.8591 - val_acc: 0.7816\n",
            "Epoch 27/30\n",
            "94/94 [==============================] - 16s 175ms/step - loss: 1.8221 - acc: 0.7477\n",
            "187/187 [==============================] - 48s 255ms/step - loss: 0.0739 - acc: 0.9826 - val_loss: 1.8221 - val_acc: 0.7477\n",
            "Epoch 28/30\n",
            "94/94 [==============================] - 16s 175ms/step - loss: 1.8243 - acc: 0.7601\n",
            "187/187 [==============================] - 48s 254ms/step - loss: 0.0666 - acc: 0.9826 - val_loss: 1.8243 - val_acc: 0.7601\n",
            "Epoch 29/30\n",
            "94/94 [==============================] - 16s 174ms/step - loss: 2.1625 - acc: 0.7792\n",
            "187/187 [==============================] - 48s 256ms/step - loss: 0.0746 - acc: 0.9829 - val_loss: 2.1625 - val_acc: 0.7792\n",
            "Epoch 30/30\n",
            "94/94 [==============================] - 17s 177ms/step - loss: 1.8544 - acc: 0.7712\n",
            "187/187 [==============================] - 48s 257ms/step - loss: 0.0730 - acc: 0.9824 - val_loss: 1.8544 - val_acc: 0.7712\n"
          ],
          "name": "stdout"
        },
        {
          "output_type": "execute_result",
          "data": {
            "text/plain": [
              "<tensorflow.python.keras.callbacks.History at 0x7f249b72a080>"
            ]
          },
          "metadata": {
            "tags": []
          },
          "execution_count": 11
        }
      ]
    },
    {
      "metadata": {
        "id": "cdvCWeiOaUHJ",
        "colab_type": "code",
        "colab": {}
      },
      "cell_type": "code",
      "source": [
        "rm \"/content/drive/My Drive/New-Folder/Validation-set/Dog/6503.jpg\""
      ],
      "execution_count": 0,
      "outputs": []
    },
    {
      "metadata": {
        "id": "1lc7fkp-A18f",
        "colab_type": "code",
        "colab": {}
      },
      "cell_type": "code",
      "source": [
        "model.save_weights(\"/content/drive/My Drive/Data/m7712-3000.h5\")"
      ],
      "execution_count": 0,
      "outputs": []
    },
    {
      "metadata": {
        "id": "JftqM9Ya-aVz",
        "colab_type": "code",
        "outputId": "12340cae-1928-4a9b-b1f1-cb231f0724df",
        "colab": {
          "base_uri": "https://localhost:8080/",
          "height": 178
        }
      },
      "cell_type": "code",
      "source": [
        "test_generator = validation_gen.flow_from_directory(test_set, target_size = (img_size,img_size), batch_size = batch_size, class_mode = 'binary')\n",
        "test_loss, test_acc = model.evaluate_generator(test_generator, steps = 50)\n",
        "print(\"Accuracy on test set = \", test_acc)"
      ],
      "execution_count": 0,
      "outputs": [
        {
          "output_type": "stream",
          "text": [
            "Found 3000 images belonging to 2 classes.\n"
          ],
          "name": "stdout"
        },
        {
          "output_type": "stream",
          "text": [
            "/usr/local/lib/python3.6/dist-packages/PIL/TiffImagePlugin.py:692: UserWarning: Possibly corrupt EXIF data.  Expecting to read 262146 bytes but only got 0. Skipping tag 2\n",
            "  \"Skipping tag %s\" % (size, len(data), tag))\n",
            "/usr/local/lib/python3.6/dist-packages/PIL/TiffImagePlugin.py:692: UserWarning: Possibly corrupt EXIF data.  Expecting to read 262151 bytes but only got 0. Skipping tag 56\n",
            "  \"Skipping tag %s\" % (size, len(data), tag))\n",
            "/usr/local/lib/python3.6/dist-packages/PIL/TiffImagePlugin.py:709: UserWarning: Corrupt EXIF data.  Expecting to read 12 bytes but only got 0. \n",
            "  warnings.warn(str(msg))\n"
          ],
          "name": "stderr"
        },
        {
          "output_type": "stream",
          "text": [
            "Accuracy on test set =  0.7696667\n"
          ],
          "name": "stdout"
        }
      ]
    },
    {
      "metadata": {
        "id": "CqpPLAob_2Re",
        "colab_type": "text"
      },
      "cell_type": "markdown",
      "source": [
        ""
      ]
    }
  ]
}