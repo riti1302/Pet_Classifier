{
  "nbformat": 4,
  "nbformat_minor": 0,
  "metadata": {
    "colab": {
      "name": "Pet-Classifier-with-augmentation.ipynb",
      "version": "0.3.2",
      "provenance": [],
      "collapsed_sections": [],
      "include_colab_link": true
    },
    "kernelspec": {
      "name": "python3",
      "display_name": "Python 3"
    },
    "accelerator": "GPU"
  },
  "cells": [
    {
      "cell_type": "markdown",
      "metadata": {
        "id": "view-in-github",
        "colab_type": "text"
      },
      "source": [
        "<a href=\"https://colab.research.google.com/github/riti1302/Pet_Classifier/blob/master/Pet_Classifier_with_augmentation.ipynb\" target=\"_parent\"><img src=\"https://colab.research.google.com/assets/colab-badge.svg\" alt=\"Open In Colab\"/></a>"
      ]
    },
    {
      "metadata": {
        "id": "IcgbmcAK2x_o",
        "colab_type": "code",
        "colab": {
          "base_uri": "https://localhost:8080/",
          "height": 125
        },
        "outputId": "002656ee-b215-4740-defd-72c799b29562"
      },
      "cell_type": "code",
      "source": [
        "from google.colab import drive\n",
        "drive.mount(\"/content/drive\")"
      ],
      "execution_count": 1,
      "outputs": [
        {
          "output_type": "stream",
          "text": [
            "Go to this URL in a browser: https://accounts.google.com/o/oauth2/auth?client_id=947318989803-6bn6qk8qdgf4n4g3pfee6491hc0brc4i.apps.googleusercontent.com&redirect_uri=urn%3Aietf%3Awg%3Aoauth%3A2.0%3Aoob&scope=email%20https%3A%2F%2Fwww.googleapis.com%2Fauth%2Fdocs.test%20https%3A%2F%2Fwww.googleapis.com%2Fauth%2Fdrive%20https%3A%2F%2Fwww.googleapis.com%2Fauth%2Fdrive.photos.readonly%20https%3A%2F%2Fwww.googleapis.com%2Fauth%2Fpeopleapi.readonly&response_type=code\n",
            "\n",
            "Enter your authorization code:\n",
            "··········\n",
            "Mounted at /content/drive\n"
          ],
          "name": "stdout"
        }
      ]
    },
    {
      "metadata": {
        "id": "NYo4H7GFksKO",
        "colab_type": "code",
        "colab": {}
      },
      "cell_type": "code",
      "source": [
        "!unzip \"/content/drive/My Drive/New-Folder.zip\" -d \"/content/drive/My Drive/\""
      ],
      "execution_count": 0,
      "outputs": []
    },
    {
      "metadata": {
        "id": "edlNk57b-yyL",
        "colab_type": "code",
        "colab": {}
      },
      "cell_type": "code",
      "source": [
        "import os\n",
        "\n",
        "train_set = \"/content/drive/My Drive/New-Folder/Train-set\"\n",
        "validation_set = \"/content/drive/My Drive/New-Folder/Validation-set\"\n",
        "test_set = \"/content/drive/My Drive/New-Folder/Test-set\"\n",
        "img_size = 64\n",
        "batch_size = 32\n"
      ],
      "execution_count": 0,
      "outputs": []
    },
    {
      "metadata": {
        "id": "P85HFes-p1iJ",
        "colab_type": "code",
        "outputId": "d6173340-51f0-486f-e9f7-234a21b90759",
        "colab": {
          "base_uri": "https://localhost:8080/",
          "height": 70
        }
      },
      "cell_type": "code",
      "source": [
        "from keras.preprocessing.image import ImageDataGenerator\n",
        "\n",
        "train_gen = ImageDataGenerator(rescale = 1./255, \n",
        "                               shear_range=0.2,\n",
        "                               zoom_range= 0.2,\n",
        "                               horizontal_flip=True)\n",
        "validation_gen = ImageDataGenerator(rescale = 1./255)\n",
        "\n",
        "train_generator = train_gen.flow_from_directory(train_set, target_size = (img_size,img_size), batch_size = batch_size, class_mode = 'binary')\n",
        "validation_generator = validation_gen.flow_from_directory(validation_set, target_size = (img_size,img_size), batch_size = batch_size, class_mode = 'binary')"
      ],
      "execution_count": 4,
      "outputs": [
        {
          "output_type": "stream",
          "text": [
            "Using TensorFlow backend.\n"
          ],
          "name": "stderr"
        },
        {
          "output_type": "stream",
          "text": [
            "Found 5961 images belonging to 2 classes.\n",
            "Found 2985 images belonging to 2 classes.\n"
          ],
          "name": "stdout"
        }
      ]
    },
    {
      "metadata": {
        "id": "DkMUX9SNruFM",
        "colab_type": "code",
        "outputId": "45e9bd0d-a7f1-4ca9-d1ac-180549b1d346",
        "colab": {
          "base_uri": "https://localhost:8080/",
          "height": 52
        }
      },
      "cell_type": "code",
      "source": [
        "for data_batch, label_batch in train_generator:\n",
        "  print(\"Data batch: \", data_batch.shape)\n",
        "  print(\"Label batch: \", label_batch.shape)\n",
        "  break"
      ],
      "execution_count": 5,
      "outputs": [
        {
          "output_type": "stream",
          "text": [
            "Data batch:  (32, 64, 64, 3)\n",
            "Label batch:  (32,)\n"
          ],
          "name": "stdout"
        }
      ]
    },
    {
      "metadata": {
        "id": "sFCqB5z4-WfH",
        "colab_type": "code",
        "outputId": "0a74ed45-e9ce-418b-e111-ac8b3f2df004",
        "colab": {
          "base_uri": "https://localhost:8080/",
          "height": 907
        }
      },
      "cell_type": "code",
      "source": [
        "from tensorflow.keras.layers import Dense, Dropout, Flatten, Activation, MaxPooling2D, Conv2D \n",
        "from tensorflow.keras.models import Sequential\n",
        "\n",
        "model = Sequential()\n",
        "\n",
        "model.add(Conv2D(32, (3,3),input_shape = (img_size,img_size,3)))\n",
        "model.add(Activation('relu'))\n",
        "model.add(MaxPooling2D(pool_size = (2,2)))\n",
        "  \n",
        "model.add(Conv2D(32, (3,3)))\n",
        "model.add(Activation('relu'))\n",
        "model.add(MaxPooling2D(pool_size = (2,2)))\n",
        "  \n",
        "model.add(Conv2D(64, (3,3)))\n",
        "model.add(Activation('relu'))\n",
        "model.add(MaxPooling2D(pool_size = (2,2)))\n",
        "\n",
        "model.add(Conv2D(128, (3,3)))\n",
        "model.add(Activation('relu'))\n",
        "model.add(MaxPooling2D(pool_size = (2,2)))\n",
        "\n",
        "  \n",
        "model.add(Flatten())\n",
        "model.add(Dense(128))\n",
        "model.add(Activation('relu'))\n",
        "model.add(Dropout(0.5))\n",
        "model.add(Dense(1))\n",
        "model.add(Activation('sigmoid'))\n",
        "\n",
        "model.summary()  "
      ],
      "execution_count": 5,
      "outputs": [
        {
          "output_type": "stream",
          "text": [
            "WARNING:tensorflow:From /usr/local/lib/python3.6/dist-packages/tensorflow/python/ops/resource_variable_ops.py:435: colocate_with (from tensorflow.python.framework.ops) is deprecated and will be removed in a future version.\n",
            "Instructions for updating:\n",
            "Colocations handled automatically by placer.\n",
            "WARNING:tensorflow:From /usr/local/lib/python3.6/dist-packages/tensorflow/python/keras/layers/core.py:143: calling dropout (from tensorflow.python.ops.nn_ops) with keep_prob is deprecated and will be removed in a future version.\n",
            "Instructions for updating:\n",
            "Please use `rate` instead of `keep_prob`. Rate should be set to `rate = 1 - keep_prob`.\n",
            "_________________________________________________________________\n",
            "Layer (type)                 Output Shape              Param #   \n",
            "=================================================================\n",
            "conv2d (Conv2D)              (None, 62, 62, 32)        896       \n",
            "_________________________________________________________________\n",
            "activation (Activation)      (None, 62, 62, 32)        0         \n",
            "_________________________________________________________________\n",
            "max_pooling2d (MaxPooling2D) (None, 31, 31, 32)        0         \n",
            "_________________________________________________________________\n",
            "conv2d_1 (Conv2D)            (None, 29, 29, 32)        9248      \n",
            "_________________________________________________________________\n",
            "activation_1 (Activation)    (None, 29, 29, 32)        0         \n",
            "_________________________________________________________________\n",
            "max_pooling2d_1 (MaxPooling2 (None, 14, 14, 32)        0         \n",
            "_________________________________________________________________\n",
            "conv2d_2 (Conv2D)            (None, 12, 12, 64)        18496     \n",
            "_________________________________________________________________\n",
            "activation_2 (Activation)    (None, 12, 12, 64)        0         \n",
            "_________________________________________________________________\n",
            "max_pooling2d_2 (MaxPooling2 (None, 6, 6, 64)          0         \n",
            "_________________________________________________________________\n",
            "conv2d_3 (Conv2D)            (None, 4, 4, 128)         73856     \n",
            "_________________________________________________________________\n",
            "activation_3 (Activation)    (None, 4, 4, 128)         0         \n",
            "_________________________________________________________________\n",
            "max_pooling2d_3 (MaxPooling2 (None, 2, 2, 128)         0         \n",
            "_________________________________________________________________\n",
            "flatten (Flatten)            (None, 512)               0         \n",
            "_________________________________________________________________\n",
            "dense (Dense)                (None, 128)               65664     \n",
            "_________________________________________________________________\n",
            "activation_4 (Activation)    (None, 128)               0         \n",
            "_________________________________________________________________\n",
            "dropout (Dropout)            (None, 128)               0         \n",
            "_________________________________________________________________\n",
            "dense_1 (Dense)              (None, 1)                 129       \n",
            "_________________________________________________________________\n",
            "activation_5 (Activation)    (None, 1)                 0         \n",
            "=================================================================\n",
            "Total params: 168,289\n",
            "Trainable params: 168,289\n",
            "Non-trainable params: 0\n",
            "_________________________________________________________________\n"
          ],
          "name": "stdout"
        }
      ]
    },
    {
      "metadata": {
        "id": "Z18T2Mcqt17I",
        "colab_type": "code",
        "outputId": "3c14fdb1-4a46-4216-90a0-7ffe3d082dc4",
        "colab": {
          "base_uri": "https://localhost:8080/",
          "height": 3023
        }
      },
      "cell_type": "code",
      "source": [
        "model.compile(loss = 'binary_crossentropy', optimizer = 'rmsprop', metrics = ['accuracy'])\n",
        "model.fit_generator(train_generator, epochs = 30, steps_per_epoch = 100, validation_data = validation_generator)\n"
      ],
      "execution_count": 6,
      "outputs": [
        {
          "output_type": "stream",
          "text": [
            "WARNING:tensorflow:From /usr/local/lib/python3.6/dist-packages/tensorflow/python/ops/math_ops.py:3066: to_int32 (from tensorflow.python.ops.math_ops) is deprecated and will be removed in a future version.\n",
            "Instructions for updating:\n",
            "Use tf.cast instead.\n",
            "Epoch 1/30\n",
            " 78/187 [===========>..................] - ETA: 14:09 - loss: 0.6973 - acc: 0.5016"
          ],
          "name": "stdout"
        },
        {
          "output_type": "stream",
          "text": [
            "/usr/local/lib/python3.6/dist-packages/PIL/TiffImagePlugin.py:692: UserWarning: Possibly corrupt EXIF data.  Expecting to read 32 bytes but only got 0. Skipping tag 270\n",
            "  \"Skipping tag %s\" % (size, len(data), tag))\n",
            "/usr/local/lib/python3.6/dist-packages/PIL/TiffImagePlugin.py:692: UserWarning: Possibly corrupt EXIF data.  Expecting to read 5 bytes but only got 0. Skipping tag 271\n",
            "  \"Skipping tag %s\" % (size, len(data), tag))\n",
            "/usr/local/lib/python3.6/dist-packages/PIL/TiffImagePlugin.py:692: UserWarning: Possibly corrupt EXIF data.  Expecting to read 8 bytes but only got 0. Skipping tag 272\n",
            "  \"Skipping tag %s\" % (size, len(data), tag))\n",
            "/usr/local/lib/python3.6/dist-packages/PIL/TiffImagePlugin.py:692: UserWarning: Possibly corrupt EXIF data.  Expecting to read 8 bytes but only got 0. Skipping tag 282\n",
            "  \"Skipping tag %s\" % (size, len(data), tag))\n",
            "/usr/local/lib/python3.6/dist-packages/PIL/TiffImagePlugin.py:692: UserWarning: Possibly corrupt EXIF data.  Expecting to read 8 bytes but only got 0. Skipping tag 283\n",
            "  \"Skipping tag %s\" % (size, len(data), tag))\n",
            "/usr/local/lib/python3.6/dist-packages/PIL/TiffImagePlugin.py:692: UserWarning: Possibly corrupt EXIF data.  Expecting to read 20 bytes but only got 0. Skipping tag 306\n",
            "  \"Skipping tag %s\" % (size, len(data), tag))\n",
            "/usr/local/lib/python3.6/dist-packages/PIL/TiffImagePlugin.py:692: UserWarning: Possibly corrupt EXIF data.  Expecting to read 48 bytes but only got 0. Skipping tag 532\n",
            "  \"Skipping tag %s\" % (size, len(data), tag))\n",
            "/usr/local/lib/python3.6/dist-packages/PIL/TiffImagePlugin.py:709: UserWarning: Corrupt EXIF data.  Expecting to read 2 bytes but only got 0. \n",
            "  warnings.warn(str(msg))\n"
          ],
          "name": "stderr"
        },
        {
          "output_type": "stream",
          "text": [
            " 88/187 [=============>................] - ETA: 12:46 - loss: 0.6971 - acc: 0.5046"
          ],
          "name": "stdout"
        },
        {
          "output_type": "stream",
          "text": [
            "/usr/local/lib/python3.6/dist-packages/PIL/TiffImagePlugin.py:692: UserWarning: Possibly corrupt EXIF data.  Expecting to read 80000 bytes but only got 0. Skipping tag 64640\n",
            "  \"Skipping tag %s\" % (size, len(data), tag))\n",
            "/usr/local/lib/python3.6/dist-packages/PIL/TiffImagePlugin.py:692: UserWarning: Possibly corrupt EXIF data.  Expecting to read 6553600 bytes but only got 0. Skipping tag 49\n",
            "  \"Skipping tag %s\" % (size, len(data), tag))\n",
            "/usr/local/lib/python3.6/dist-packages/PIL/TiffImagePlugin.py:692: UserWarning: Possibly corrupt EXIF data.  Expecting to read 1050744 bytes but only got 4951. Skipping tag 51\n",
            "  \"Skipping tag %s\" % (size, len(data), tag))\n",
            "/usr/local/lib/python3.6/dist-packages/PIL/TiffImagePlugin.py:692: UserWarning: Possibly corrupt EXIF data.  Expecting to read 293339136 bytes but only got 0. Skipping tag 5\n",
            "  \"Skipping tag %s\" % (size, len(data), tag))\n",
            "/usr/local/lib/python3.6/dist-packages/PIL/TiffImagePlugin.py:692: UserWarning: Possibly corrupt EXIF data.  Expecting to read 293863424 bytes but only got 0. Skipping tag 5\n",
            "  \"Skipping tag %s\" % (size, len(data), tag))\n",
            "/usr/local/lib/python3.6/dist-packages/PIL/TiffImagePlugin.py:692: UserWarning: Possibly corrupt EXIF data.  Expecting to read 3368026112 bytes but only got 0. Skipping tag 7\n",
            "  \"Skipping tag %s\" % (size, len(data), tag))\n",
            "/usr/local/lib/python3.6/dist-packages/PIL/TiffImagePlugin.py:692: UserWarning: Possibly corrupt EXIF data.  Expecting to read 134479872 bytes but only got 0. Skipping tag 7\n",
            "  \"Skipping tag %s\" % (size, len(data), tag))\n",
            "/usr/local/lib/python3.6/dist-packages/PIL/TiffImagePlugin.py:692: UserWarning: Possibly corrupt EXIF data.  Expecting to read 295698432 bytes but only got 0. Skipping tag 10\n",
            "  \"Skipping tag %s\" % (size, len(data), tag))\n",
            "/usr/local/lib/python3.6/dist-packages/PIL/TiffImagePlugin.py:692: UserWarning: Possibly corrupt EXIF data.  Expecting to read 296222720 bytes but only got 0. Skipping tag 5\n",
            "  \"Skipping tag %s\" % (size, len(data), tag))\n",
            "/usr/local/lib/python3.6/dist-packages/PIL/TiffImagePlugin.py:692: UserWarning: Possibly corrupt EXIF data.  Expecting to read 3300917248 bytes but only got 0. Skipping tag 7\n",
            "  \"Skipping tag %s\" % (size, len(data), tag))\n",
            "/usr/local/lib/python3.6/dist-packages/PIL/TiffImagePlugin.py:692: UserWarning: Possibly corrupt EXIF data.  Expecting to read 65536 bytes but only got 0. Skipping tag 3\n",
            "  \"Skipping tag %s\" % (size, len(data), tag))\n",
            "/usr/local/lib/python3.6/dist-packages/PIL/TiffImagePlugin.py:692: UserWarning: Possibly corrupt EXIF data.  Expecting to read 14745600 bytes but only got 0. Skipping tag 4\n",
            "  \"Skipping tag %s\" % (size, len(data), tag))\n",
            "/usr/local/lib/python3.6/dist-packages/PIL/TiffImagePlugin.py:692: UserWarning: Possibly corrupt EXIF data.  Expecting to read 25624576 bytes but only got 0. Skipping tag 4\n",
            "  \"Skipping tag %s\" % (size, len(data), tag))\n",
            "/usr/local/lib/python3.6/dist-packages/PIL/TiffImagePlugin.py:692: UserWarning: Possibly corrupt EXIF data.  Expecting to read 317718528 bytes but only got 4956. Skipping tag 4\n",
            "  \"Skipping tag %s\" % (size, len(data), tag))\n",
            "/usr/local/lib/python3.6/dist-packages/PIL/TiffImagePlugin.py:692: UserWarning: Possibly corrupt EXIF data.  Expecting to read 131073 bytes but only got 4952. Skipping tag 0\n",
            "  \"Skipping tag %s\" % (size, len(data), tag))\n",
            "/usr/local/lib/python3.6/dist-packages/PIL/TiffImagePlugin.py:692: UserWarning: Possibly corrupt EXIF data.  Expecting to read 393216 bytes but only got 0. Skipping tag 3\n",
            "  \"Skipping tag %s\" % (size, len(data), tag))\n",
            "/usr/local/lib/python3.6/dist-packages/PIL/TiffImagePlugin.py:692: UserWarning: Possibly corrupt EXIF data.  Expecting to read 287178752 bytes but only got 0. Skipping tag 5\n",
            "  \"Skipping tag %s\" % (size, len(data), tag))\n",
            "/usr/local/lib/python3.6/dist-packages/PIL/TiffImagePlugin.py:692: UserWarning: Possibly corrupt EXIF data.  Expecting to read 287703040 bytes but only got 0. Skipping tag 5\n",
            "  \"Skipping tag %s\" % (size, len(data), tag))\n",
            "/usr/local/lib/python3.6/dist-packages/PIL/TiffImagePlugin.py:692: UserWarning: Possibly corrupt EXIF data.  Expecting to read 131072 bytes but only got 0. Skipping tag 3\n",
            "  \"Skipping tag %s\" % (size, len(data), tag))\n",
            "/usr/local/lib/python3.6/dist-packages/PIL/TiffImagePlugin.py:692: UserWarning: Possibly corrupt EXIF data.  Expecting to read 524288 bytes but only got 0. Skipping tag 4\n",
            "  \"Skipping tag %s\" % (size, len(data), tag))\n",
            "/usr/local/lib/python3.6/dist-packages/PIL/TiffImagePlugin.py:692: UserWarning: Possibly corrupt EXIF data.  Expecting to read 286654464 bytes but only got 4956. Skipping tag 4\n",
            "  \"Skipping tag %s\" % (size, len(data), tag))\n",
            "/usr/local/lib/python3.6/dist-packages/PIL/TiffImagePlugin.py:709: UserWarning: Corrupt EXIF data.  Expecting to read 12 bytes but only got 2. \n",
            "  warnings.warn(str(msg))\n"
          ],
          "name": "stderr"
        },
        {
          "output_type": "stream",
          "text": [
            "50/94 [==============>...............] - ETA: 8:47 - loss: 0.8067 - acc: 0.5163"
          ],
          "name": "stdout"
        },
        {
          "output_type": "stream",
          "text": [
            "/usr/local/lib/python3.6/dist-packages/PIL/TiffImagePlugin.py:692: UserWarning: Possibly corrupt EXIF data.  Expecting to read 404094976 bytes but only got 0. Skipping tag 5\n",
            "  \"Skipping tag %s\" % (size, len(data), tag))\n",
            "/usr/local/lib/python3.6/dist-packages/PIL/TiffImagePlugin.py:692: UserWarning: Possibly corrupt EXIF data.  Expecting to read 404619264 bytes but only got 0. Skipping tag 5\n",
            "  \"Skipping tag %s\" % (size, len(data), tag))\n",
            "/usr/local/lib/python3.6/dist-packages/PIL/TiffImagePlugin.py:692: UserWarning: Possibly corrupt EXIF data.  Expecting to read 425459712 bytes but only got 0. Skipping tag 4\n",
            "  \"Skipping tag %s\" % (size, len(data), tag))\n",
            "/usr/local/lib/python3.6/dist-packages/PIL/TiffImagePlugin.py:692: UserWarning: Possibly corrupt EXIF data.  Expecting to read 1385474 bytes but only got 6833. Skipping tag 513\n",
            "  \"Skipping tag %s\" % (size, len(data), tag))\n",
            "/usr/local/lib/python3.6/dist-packages/PIL/TiffImagePlugin.py:692: UserWarning: Possibly corrupt EXIF data.  Expecting to read 3846701056 bytes but only got 0. Skipping tag 2\n",
            "  \"Skipping tag %s\" % (size, len(data), tag))\n",
            "/usr/local/lib/python3.6/dist-packages/PIL/TiffImagePlugin.py:692: UserWarning: Possibly corrupt EXIF data.  Expecting to read 196867 bytes but only got 6833. Skipping tag 0\n",
            "  \"Skipping tag %s\" % (size, len(data), tag))\n",
            "/usr/local/lib/python3.6/dist-packages/PIL/TiffImagePlugin.py:709: UserWarning: Corrupt EXIF data.  Expecting to read 12 bytes but only got 8. \n",
            "  warnings.warn(str(msg))\n"
          ],
          "name": "stderr"
        },
        {
          "output_type": "stream",
          "text": [
            "94/94 [==============================] - 1118s 12s/step - loss: 0.8287 - acc: 0.5008\n",
            "187/187 [==============================] - 2568s 14s/step - loss: 0.6944 - acc: 0.5153 - val_loss: 0.8287 - val_acc: 0.5008\n",
            "Epoch 2/30\n",
            "94/94 [==============================] - 17s 179ms/step - loss: 0.6333 - acc: 0.6382\n",
            "187/187 [==============================] - 55s 295ms/step - loss: 0.6662 - acc: 0.5989 - val_loss: 0.6333 - val_acc: 0.6382\n",
            "Epoch 3/30\n",
            "94/94 [==============================] - 17s 177ms/step - loss: 0.6309 - acc: 0.6492\n",
            "187/187 [==============================] - 54s 290ms/step - loss: 0.6280 - acc: 0.6479 - val_loss: 0.6309 - val_acc: 0.6492\n",
            "Epoch 4/30\n",
            "94/94 [==============================] - 17s 176ms/step - loss: 0.6027 - acc: 0.6844\n",
            "187/187 [==============================] - 54s 290ms/step - loss: 0.5968 - acc: 0.6794 - val_loss: 0.6027 - val_acc: 0.6844\n",
            "Epoch 5/30\n",
            "94/94 [==============================] - 17s 176ms/step - loss: 0.5528 - acc: 0.7250\n",
            "187/187 [==============================] - 54s 290ms/step - loss: 0.5697 - acc: 0.7059 - val_loss: 0.5528 - val_acc: 0.7250\n",
            "Epoch 6/30\n",
            "94/94 [==============================] - 17s 176ms/step - loss: 0.5340 - acc: 0.7347\n",
            "187/187 [==============================] - 55s 293ms/step - loss: 0.5432 - acc: 0.7284 - val_loss: 0.5340 - val_acc: 0.7347\n",
            "Epoch 7/30\n",
            "94/94 [==============================] - 17s 183ms/step - loss: 0.5007 - acc: 0.7575\n",
            "187/187 [==============================] - 55s 295ms/step - loss: 0.5210 - acc: 0.7405 - val_loss: 0.5007 - val_acc: 0.7575\n",
            "Epoch 8/30\n",
            "94/94 [==============================] - 17s 177ms/step - loss: 0.5610 - acc: 0.7085\n",
            "187/187 [==============================] - 55s 293ms/step - loss: 0.5008 - acc: 0.7510 - val_loss: 0.5610 - val_acc: 0.7085\n",
            "Epoch 9/30\n",
            "94/94 [==============================] - 16s 174ms/step - loss: 0.4559 - acc: 0.7883\n",
            "187/187 [==============================] - 53s 285ms/step - loss: 0.4928 - acc: 0.7594 - val_loss: 0.4559 - val_acc: 0.7883\n",
            "Epoch 10/30\n",
            "94/94 [==============================] - 16s 174ms/step - loss: 0.5189 - acc: 0.7414\n",
            "187/187 [==============================] - 53s 286ms/step - loss: 0.4745 - acc: 0.7774 - val_loss: 0.5189 - val_acc: 0.7414\n",
            "Epoch 11/30\n",
            "94/94 [==============================] - 16s 171ms/step - loss: 0.5509 - acc: 0.7511\n",
            "187/187 [==============================] - 52s 281ms/step - loss: 0.4567 - acc: 0.7804 - val_loss: 0.5509 - val_acc: 0.7511\n",
            "Epoch 12/30\n",
            "94/94 [==============================] - 16s 173ms/step - loss: 0.4805 - acc: 0.7685\n",
            "187/187 [==============================] - 54s 287ms/step - loss: 0.4460 - acc: 0.7994 - val_loss: 0.4805 - val_acc: 0.7685\n",
            "Epoch 13/30\n",
            "94/94 [==============================] - 16s 174ms/step - loss: 0.4542 - acc: 0.7889\n",
            "187/187 [==============================] - 53s 286ms/step - loss: 0.4269 - acc: 0.8036 - val_loss: 0.4542 - val_acc: 0.7889\n",
            "Epoch 14/30\n",
            "94/94 [==============================] - 17s 177ms/step - loss: 0.5851 - acc: 0.7524\n",
            "187/187 [==============================] - 54s 289ms/step - loss: 0.4143 - acc: 0.8069 - val_loss: 0.5851 - val_acc: 0.7524\n",
            "Epoch 15/30\n",
            "94/94 [==============================] - 16s 172ms/step - loss: 0.5026 - acc: 0.7725\n",
            "187/187 [==============================] - 53s 281ms/step - loss: 0.4053 - acc: 0.8103 - val_loss: 0.5026 - val_acc: 0.7725\n",
            "Epoch 16/30\n",
            "94/94 [==============================] - 16s 171ms/step - loss: 0.4627 - acc: 0.7906\n",
            "187/187 [==============================] - 52s 280ms/step - loss: 0.3911 - acc: 0.8257 - val_loss: 0.4627 - val_acc: 0.7906\n",
            "Epoch 17/30\n",
            "94/94 [==============================] - 17s 177ms/step - loss: 0.4757 - acc: 0.7779\n",
            "187/187 [==============================] - 53s 283ms/step - loss: 0.3816 - acc: 0.8296 - val_loss: 0.4757 - val_acc: 0.7779\n",
            "Epoch 18/30\n",
            "94/94 [==============================] - 16s 172ms/step - loss: 0.4474 - acc: 0.8040\n",
            "187/187 [==============================] - 53s 284ms/step - loss: 0.3816 - acc: 0.8314 - val_loss: 0.4474 - val_acc: 0.8040\n",
            "Epoch 19/30\n",
            "94/94 [==============================] - 16s 172ms/step - loss: 0.4197 - acc: 0.8064\n",
            "187/187 [==============================] - 53s 285ms/step - loss: 0.3624 - acc: 0.8443 - val_loss: 0.4197 - val_acc: 0.8064\n",
            "Epoch 20/30\n",
            "94/94 [==============================] - 17s 179ms/step - loss: 0.4191 - acc: 0.8181\n",
            "187/187 [==============================] - 54s 291ms/step - loss: 0.3410 - acc: 0.8519 - val_loss: 0.4191 - val_acc: 0.8181\n",
            "Epoch 21/30\n",
            "94/94 [==============================] - 17s 176ms/step - loss: 0.4808 - acc: 0.7899\n",
            "187/187 [==============================] - 54s 289ms/step - loss: 0.3387 - acc: 0.8510 - val_loss: 0.4808 - val_acc: 0.7899\n",
            "Epoch 22/30\n",
            "94/94 [==============================] - 17s 178ms/step - loss: 0.4332 - acc: 0.8211\n",
            "187/187 [==============================] - 55s 292ms/step - loss: 0.3429 - acc: 0.8468 - val_loss: 0.4332 - val_acc: 0.8211\n",
            "Epoch 23/30\n",
            "94/94 [==============================] - 17s 177ms/step - loss: 0.4613 - acc: 0.7946\n",
            "187/187 [==============================] - 55s 293ms/step - loss: 0.3340 - acc: 0.8566 - val_loss: 0.4613 - val_acc: 0.7946\n",
            "Epoch 24/30\n",
            "94/94 [==============================] - 16s 171ms/step - loss: 0.4383 - acc: 0.8137\n",
            "187/187 [==============================] - 52s 280ms/step - loss: 0.3336 - acc: 0.8576 - val_loss: 0.4383 - val_acc: 0.8137\n",
            "Epoch 25/30\n",
            "94/94 [==============================] - 16s 175ms/step - loss: 0.3836 - acc: 0.8389\n",
            "187/187 [==============================] - 54s 288ms/step - loss: 0.3392 - acc: 0.8535 - val_loss: 0.3836 - val_acc: 0.8389\n",
            "Epoch 26/30\n",
            "94/94 [==============================] - 16s 174ms/step - loss: 0.4411 - acc: 0.8104\n",
            "187/187 [==============================] - 54s 288ms/step - loss: 0.3208 - acc: 0.8646 - val_loss: 0.4411 - val_acc: 0.8104\n",
            "Epoch 27/30\n",
            "94/94 [==============================] - 16s 173ms/step - loss: 0.4996 - acc: 0.8151\n",
            "187/187 [==============================] - 53s 284ms/step - loss: 0.3093 - acc: 0.8695 - val_loss: 0.4996 - val_acc: 0.8151\n",
            "Epoch 28/30\n",
            "94/94 [==============================] - 16s 175ms/step - loss: 0.3987 - acc: 0.8231\n",
            "187/187 [==============================] - 53s 284ms/step - loss: 0.3145 - acc: 0.8675 - val_loss: 0.3987 - val_acc: 0.8231\n",
            "Epoch 29/30\n",
            "94/94 [==============================] - 16s 175ms/step - loss: 0.4596 - acc: 0.8268\n",
            "187/187 [==============================] - 54s 290ms/step - loss: 0.2953 - acc: 0.8780 - val_loss: 0.4596 - val_acc: 0.8268\n",
            "Epoch 30/30\n",
            "94/94 [==============================] - 17s 182ms/step - loss: 0.3932 - acc: 0.8302\n",
            "187/187 [==============================] - 54s 290ms/step - loss: 0.3000 - acc: 0.8794 - val_loss: 0.3932 - val_acc: 0.8302\n"
          ],
          "name": "stdout"
        },
        {
          "output_type": "execute_result",
          "data": {
            "text/plain": [
              "<tensorflow.python.keras.callbacks.History at 0x7fb458ec6cc0>"
            ]
          },
          "metadata": {
            "tags": []
          },
          "execution_count": 6
        }
      ]
    },
    {
      "metadata": {
        "id": "cdvCWeiOaUHJ",
        "colab_type": "code",
        "colab": {}
      },
      "cell_type": "code",
      "source": [
        "rm \"/content/drive/My Drive/New-Folder/Validation-set/Dog/6503.jpg\""
      ],
      "execution_count": 0,
      "outputs": []
    },
    {
      "metadata": {
        "id": "1lc7fkp-A18f",
        "colab_type": "code",
        "colab": {}
      },
      "cell_type": "code",
      "source": [
        "model.save_weights(\"/content/drive/My Drive/Data/m8302-3000.h5\")"
      ],
      "execution_count": 0,
      "outputs": []
    },
    {
      "metadata": {
        "id": "JftqM9Ya-aVz",
        "colab_type": "code",
        "outputId": "3267564f-5954-4289-fdfd-22d3afbc0641",
        "colab": {
          "base_uri": "https://localhost:8080/",
          "height": 178
        }
      },
      "cell_type": "code",
      "source": [
        "test_generator = validation_gen.flow_from_directory(test_set, target_size = (img_size,img_size), batch_size = batch_size, class_mode = 'binary')\n",
        "test_loss, test_acc = model.evaluate_generator(test_generator, steps = 50)\n",
        "print(\"Accuracy on test set = \", test_acc)"
      ],
      "execution_count": 7,
      "outputs": [
        {
          "output_type": "stream",
          "text": [
            "Found 3000 images belonging to 2 classes.\n"
          ],
          "name": "stdout"
        },
        {
          "output_type": "stream",
          "text": [
            "/usr/local/lib/python3.6/dist-packages/PIL/TiffImagePlugin.py:692: UserWarning: Possibly corrupt EXIF data.  Expecting to read 262146 bytes but only got 0. Skipping tag 2\n",
            "  \"Skipping tag %s\" % (size, len(data), tag))\n",
            "/usr/local/lib/python3.6/dist-packages/PIL/TiffImagePlugin.py:692: UserWarning: Possibly corrupt EXIF data.  Expecting to read 262151 bytes but only got 0. Skipping tag 56\n",
            "  \"Skipping tag %s\" % (size, len(data), tag))\n",
            "/usr/local/lib/python3.6/dist-packages/PIL/TiffImagePlugin.py:709: UserWarning: Corrupt EXIF data.  Expecting to read 12 bytes but only got 0. \n",
            "  warnings.warn(str(msg))\n"
          ],
          "name": "stderr"
        },
        {
          "output_type": "stream",
          "text": [
            "Accuracy on test set =  0.83633333\n"
          ],
          "name": "stdout"
        }
      ]
    },
    {
      "metadata": {
        "id": "CqpPLAob_2Re",
        "colab_type": "text"
      },
      "cell_type": "markdown",
      "source": [
        ""
      ]
    }
  ]
}